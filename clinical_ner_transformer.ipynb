{
 "cells": [
  {
   "metadata": {},
   "cell_type": "markdown",
   "source": [
    "# clinical ner transformer\n",
    "\n",
    "In this notebook I use pretrained clinic_bioBert encoder transformer to extract diagnosis and medications (NER and classification) from medical notes data."
   ],
   "id": "e0a749b98971f74e"
  },
  {
   "metadata": {},
   "cell_type": "markdown",
   "source": [
    "### Main Objectives\n",
    "\n",
    "1. Generate or Load Data\n",
    "\n",
    "- Option A: Synthetic EMRs (fast to iterate; no licensing).\n",
    "- Option B: Open datasets (stronger realism): BC5CDR (Diseases/Chemicals): https://huggingface.co/datasets/biocreative_cdr\n",
    "\n",
    "2. BIO Tag the Data\n",
    "\n",
    "- Label scheme: B-ENTITY, I-ENTITY, O.\n",
    "\n",
    "3. Tokenize\n",
    "\n",
    "- Use the same tokenizer as the model (handles subwords + offset mapping).\n",
    "\n",
    "4. Load Pretrained Model\n",
    "\n",
    "- Bio_ClinicalBERT: emilyalsentzer/Bio_ClinicalBERT\n",
    "\n",
    "5. Fine-Tune\n",
    "\n",
    "- Objective: add token classification head (NER).\n",
    "- Loss: cross-entropy over token labels (ignore specials with -100).\n",
    "\n",
    "6. Classify Diagnoses & Meds\n",
    "\n",
    "- Postprocess logits - entity spans.\n",
    "- Aggregate subwords back to words; merge B-/I- runs.\n",
    "\n",
    "7. Evaluate\n",
    "\n",
    "- Metrics: precision / recall / F1 (seqeval).\n",
    "- Inspect errors (boundary splits, abbreviations, synonyms)."
   ],
   "id": "d198ea6b16ba8cc7"
  },
  {
   "metadata": {},
   "cell_type": "markdown",
   "source": "### install and import necessary modules",
   "id": "1a5640b9ea069bf1"
  },
  {
   "metadata": {},
   "cell_type": "code",
   "outputs": [],
   "execution_count": null,
   "source": "!conda install -y pytorch cpuonly -c pytorch",
   "id": "316d6f4eb27a288a"
  },
  {
   "cell_type": "code",
   "id": "initial_id",
   "metadata": {
    "collapsed": true,
    "ExecuteTime": {
     "end_time": "2025-08-31T13:21:05.123597Z",
     "start_time": "2025-08-31T13:20:58.210374Z"
    }
   },
   "source": [
    "!pip install -U transformers seqeval evaluate bioc\n",
    "!pip install \"datasets<4.0.0\" fsspec pyarrow"
   ],
   "outputs": [
    {
     "name": "stdout",
     "output_type": "stream",
     "text": [
      "Requirement already satisfied: transformers in c:\\users\\shani\\anaconda3\\envs\\medical_cv_projects\\lib\\site-packages (4.56.0)\n",
      "Requirement already satisfied: seqeval in c:\\users\\shani\\anaconda3\\envs\\medical_cv_projects\\lib\\site-packages (1.2.2)\n",
      "Requirement already satisfied: evaluate in c:\\users\\shani\\anaconda3\\envs\\medical_cv_projects\\lib\\site-packages (0.4.5)\n",
      "Requirement already satisfied: bioc in c:\\users\\shani\\anaconda3\\envs\\medical_cv_projects\\lib\\site-packages (2.1)\n",
      "Requirement already satisfied: filelock in c:\\users\\shani\\anaconda3\\envs\\medical_cv_projects\\lib\\site-packages (from transformers) (3.17.0)\n",
      "Collecting huggingface-hub<1.0,>=0.34.0 (from transformers)\n",
      "  Using cached huggingface_hub-0.34.4-py3-none-any.whl.metadata (14 kB)\n",
      "Requirement already satisfied: numpy>=1.17 in c:\\users\\shani\\anaconda3\\envs\\medical_cv_projects\\lib\\site-packages (from transformers) (2.0.1)\n",
      "Requirement already satisfied: packaging>=20.0 in c:\\users\\shani\\anaconda3\\envs\\medical_cv_projects\\lib\\site-packages (from transformers) (25.0)\n",
      "Requirement already satisfied: pyyaml>=5.1 in c:\\users\\shani\\anaconda3\\envs\\medical_cv_projects\\lib\\site-packages (from transformers) (6.0.2)\n",
      "Requirement already satisfied: regex!=2019.12.17 in c:\\users\\shani\\anaconda3\\envs\\medical_cv_projects\\lib\\site-packages (from transformers) (2025.8.29)\n",
      "Requirement already satisfied: requests in c:\\users\\shani\\anaconda3\\envs\\medical_cv_projects\\lib\\site-packages (from transformers) (2.32.4)\n",
      "Requirement already satisfied: tokenizers<=0.23.0,>=0.22.0 in c:\\users\\shani\\anaconda3\\envs\\medical_cv_projects\\lib\\site-packages (from transformers) (0.22.0)\n",
      "Requirement already satisfied: safetensors>=0.4.3 in c:\\users\\shani\\anaconda3\\envs\\medical_cv_projects\\lib\\site-packages (from transformers) (0.6.2)\n",
      "Requirement already satisfied: tqdm>=4.27 in c:\\users\\shani\\anaconda3\\envs\\medical_cv_projects\\lib\\site-packages (from transformers) (4.67.1)\n",
      "Requirement already satisfied: fsspec>=2023.5.0 in c:\\users\\shani\\anaconda3\\envs\\medical_cv_projects\\lib\\site-packages (from huggingface-hub<1.0,>=0.34.0->transformers) (2025.3.0)\n",
      "Requirement already satisfied: typing-extensions>=3.7.4.3 in c:\\users\\shani\\anaconda3\\envs\\medical_cv_projects\\lib\\site-packages (from huggingface-hub<1.0,>=0.34.0->transformers) (4.15.0)\n",
      "Requirement already satisfied: scikit-learn>=0.21.3 in c:\\users\\shani\\anaconda3\\envs\\medical_cv_projects\\lib\\site-packages (from seqeval) (1.7.1)\n",
      "Requirement already satisfied: datasets>=2.0.0 in c:\\users\\shani\\anaconda3\\envs\\medical_cv_projects\\lib\\site-packages (from evaluate) (3.6.0)\n",
      "Requirement already satisfied: dill in c:\\users\\shani\\anaconda3\\envs\\medical_cv_projects\\lib\\site-packages (from evaluate) (0.3.8)\n",
      "Requirement already satisfied: pandas in c:\\users\\shani\\anaconda3\\envs\\medical_cv_projects\\lib\\site-packages (from evaluate) (2.3.2)\n",
      "Requirement already satisfied: xxhash in c:\\users\\shani\\anaconda3\\envs\\medical_cv_projects\\lib\\site-packages (from evaluate) (3.5.0)\n",
      "Requirement already satisfied: multiprocess in c:\\users\\shani\\anaconda3\\envs\\medical_cv_projects\\lib\\site-packages (from evaluate) (0.70.16)\n",
      "Requirement already satisfied: lxml>=4.6.3 in c:\\users\\shani\\anaconda3\\envs\\medical_cv_projects\\lib\\site-packages (from bioc) (6.0.1)\n",
      "Requirement already satisfied: jsonlines>=1.2.0 in c:\\users\\shani\\anaconda3\\envs\\medical_cv_projects\\lib\\site-packages (from bioc) (4.0.0)\n",
      "Requirement already satisfied: intervaltree in c:\\users\\shani\\anaconda3\\envs\\medical_cv_projects\\lib\\site-packages (from bioc) (3.1.0)\n",
      "Requirement already satisfied: docopt in c:\\users\\shani\\anaconda3\\envs\\medical_cv_projects\\lib\\site-packages (from bioc) (0.6.2)\n",
      "Requirement already satisfied: pyarrow>=15.0.0 in c:\\users\\shani\\anaconda3\\envs\\medical_cv_projects\\lib\\site-packages (from datasets>=2.0.0->evaluate) (21.0.0)\n",
      "Requirement already satisfied: aiohttp!=4.0.0a0,!=4.0.0a1 in c:\\users\\shani\\anaconda3\\envs\\medical_cv_projects\\lib\\site-packages (from fsspec[http]>=2021.05.0->evaluate) (3.12.15)\n",
      "Requirement already satisfied: aiohappyeyeballs>=2.5.0 in c:\\users\\shani\\anaconda3\\envs\\medical_cv_projects\\lib\\site-packages (from aiohttp!=4.0.0a0,!=4.0.0a1->fsspec[http]>=2021.05.0->evaluate) (2.6.1)\n",
      "Requirement already satisfied: aiosignal>=1.4.0 in c:\\users\\shani\\anaconda3\\envs\\medical_cv_projects\\lib\\site-packages (from aiohttp!=4.0.0a0,!=4.0.0a1->fsspec[http]>=2021.05.0->evaluate) (1.4.0)\n",
      "Requirement already satisfied: async-timeout<6.0,>=4.0 in c:\\users\\shani\\anaconda3\\envs\\medical_cv_projects\\lib\\site-packages (from aiohttp!=4.0.0a0,!=4.0.0a1->fsspec[http]>=2021.05.0->evaluate) (5.0.1)\n",
      "Requirement already satisfied: attrs>=17.3.0 in c:\\users\\shani\\anaconda3\\envs\\medical_cv_projects\\lib\\site-packages (from aiohttp!=4.0.0a0,!=4.0.0a1->fsspec[http]>=2021.05.0->evaluate) (24.3.0)\n",
      "Requirement already satisfied: frozenlist>=1.1.1 in c:\\users\\shani\\anaconda3\\envs\\medical_cv_projects\\lib\\site-packages (from aiohttp!=4.0.0a0,!=4.0.0a1->fsspec[http]>=2021.05.0->evaluate) (1.7.0)\n",
      "Requirement already satisfied: multidict<7.0,>=4.5 in c:\\users\\shani\\anaconda3\\envs\\medical_cv_projects\\lib\\site-packages (from aiohttp!=4.0.0a0,!=4.0.0a1->fsspec[http]>=2021.05.0->evaluate) (6.6.4)\n",
      "Requirement already satisfied: propcache>=0.2.0 in c:\\users\\shani\\anaconda3\\envs\\medical_cv_projects\\lib\\site-packages (from aiohttp!=4.0.0a0,!=4.0.0a1->fsspec[http]>=2021.05.0->evaluate) (0.3.2)\n",
      "Requirement already satisfied: yarl<2.0,>=1.17.0 in c:\\users\\shani\\anaconda3\\envs\\medical_cv_projects\\lib\\site-packages (from aiohttp!=4.0.0a0,!=4.0.0a1->fsspec[http]>=2021.05.0->evaluate) (1.20.1)\n",
      "Requirement already satisfied: idna>=2.0 in c:\\users\\shani\\anaconda3\\envs\\medical_cv_projects\\lib\\site-packages (from yarl<2.0,>=1.17.0->aiohttp!=4.0.0a0,!=4.0.0a1->fsspec[http]>=2021.05.0->evaluate) (3.7)\n",
      "Requirement already satisfied: charset_normalizer<4,>=2 in c:\\users\\shani\\anaconda3\\envs\\medical_cv_projects\\lib\\site-packages (from requests->transformers) (3.3.2)\n",
      "Requirement already satisfied: urllib3<3,>=1.21.1 in c:\\users\\shani\\anaconda3\\envs\\medical_cv_projects\\lib\\site-packages (from requests->transformers) (2.5.0)\n",
      "Requirement already satisfied: certifi>=2017.4.17 in c:\\users\\shani\\anaconda3\\envs\\medical_cv_projects\\lib\\site-packages (from requests->transformers) (2025.8.3)\n",
      "Requirement already satisfied: scipy>=1.8.0 in c:\\users\\shani\\anaconda3\\envs\\medical_cv_projects\\lib\\site-packages (from scikit-learn>=0.21.3->seqeval) (1.15.3)\n",
      "Requirement already satisfied: joblib>=1.2.0 in c:\\users\\shani\\anaconda3\\envs\\medical_cv_projects\\lib\\site-packages (from scikit-learn>=0.21.3->seqeval) (1.5.2)\n",
      "Requirement already satisfied: threadpoolctl>=3.1.0 in c:\\users\\shani\\anaconda3\\envs\\medical_cv_projects\\lib\\site-packages (from scikit-learn>=0.21.3->seqeval) (3.6.0)\n",
      "Requirement already satisfied: colorama in c:\\users\\shani\\anaconda3\\envs\\medical_cv_projects\\lib\\site-packages (from tqdm>=4.27->transformers) (0.4.6)\n",
      "Requirement already satisfied: sortedcontainers<3.0,>=2.0 in c:\\users\\shani\\anaconda3\\envs\\medical_cv_projects\\lib\\site-packages (from intervaltree->bioc) (2.4.0)\n",
      "Requirement already satisfied: python-dateutil>=2.8.2 in c:\\users\\shani\\anaconda3\\envs\\medical_cv_projects\\lib\\site-packages (from pandas->evaluate) (2.9.0.post0)\n",
      "Requirement already satisfied: pytz>=2020.1 in c:\\users\\shani\\anaconda3\\envs\\medical_cv_projects\\lib\\site-packages (from pandas->evaluate) (2025.2)\n",
      "Requirement already satisfied: tzdata>=2022.7 in c:\\users\\shani\\anaconda3\\envs\\medical_cv_projects\\lib\\site-packages (from pandas->evaluate) (2025.2)\n",
      "Requirement already satisfied: six>=1.5 in c:\\users\\shani\\anaconda3\\envs\\medical_cv_projects\\lib\\site-packages (from python-dateutil>=2.8.2->pandas->evaluate) (1.17.0)\n",
      "Using cached huggingface_hub-0.34.4-py3-none-any.whl (561 kB)\n",
      "Installing collected packages: huggingface-hub\n",
      "  Attempting uninstall: huggingface-hub\n",
      "    Found existing installation: huggingface-hub 0.25.2\n",
      "    Uninstalling huggingface-hub-0.25.2:\n",
      "      Successfully uninstalled huggingface-hub-0.25.2\n",
      "Successfully installed huggingface-hub-0.34.4\n",
      "Requirement already satisfied: datasets<4.0.0 in c:\\users\\shani\\anaconda3\\envs\\medical_cv_projects\\lib\\site-packages (3.6.0)\n",
      "Requirement already satisfied: fsspec in c:\\users\\shani\\anaconda3\\envs\\medical_cv_projects\\lib\\site-packages (2025.3.0)\n",
      "Requirement already satisfied: pyarrow in c:\\users\\shani\\anaconda3\\envs\\medical_cv_projects\\lib\\site-packages (21.0.0)\n",
      "Requirement already satisfied: filelock in c:\\users\\shani\\anaconda3\\envs\\medical_cv_projects\\lib\\site-packages (from datasets<4.0.0) (3.17.0)\n",
      "Requirement already satisfied: numpy>=1.17 in c:\\users\\shani\\anaconda3\\envs\\medical_cv_projects\\lib\\site-packages (from datasets<4.0.0) (2.0.1)\n",
      "Requirement already satisfied: dill<0.3.9,>=0.3.0 in c:\\users\\shani\\anaconda3\\envs\\medical_cv_projects\\lib\\site-packages (from datasets<4.0.0) (0.3.8)\n",
      "Requirement already satisfied: pandas in c:\\users\\shani\\anaconda3\\envs\\medical_cv_projects\\lib\\site-packages (from datasets<4.0.0) (2.3.2)\n",
      "Requirement already satisfied: requests>=2.32.2 in c:\\users\\shani\\anaconda3\\envs\\medical_cv_projects\\lib\\site-packages (from datasets<4.0.0) (2.32.4)\n",
      "Requirement already satisfied: tqdm>=4.66.3 in c:\\users\\shani\\anaconda3\\envs\\medical_cv_projects\\lib\\site-packages (from datasets<4.0.0) (4.67.1)\n",
      "Requirement already satisfied: xxhash in c:\\users\\shani\\anaconda3\\envs\\medical_cv_projects\\lib\\site-packages (from datasets<4.0.0) (3.5.0)\n",
      "Requirement already satisfied: multiprocess<0.70.17 in c:\\users\\shani\\anaconda3\\envs\\medical_cv_projects\\lib\\site-packages (from datasets<4.0.0) (0.70.16)\n",
      "Requirement already satisfied: huggingface-hub>=0.24.0 in c:\\users\\shani\\anaconda3\\envs\\medical_cv_projects\\lib\\site-packages (from datasets<4.0.0) (0.34.4)\n",
      "Requirement already satisfied: packaging in c:\\users\\shani\\anaconda3\\envs\\medical_cv_projects\\lib\\site-packages (from datasets<4.0.0) (25.0)\n",
      "Requirement already satisfied: pyyaml>=5.1 in c:\\users\\shani\\anaconda3\\envs\\medical_cv_projects\\lib\\site-packages (from datasets<4.0.0) (6.0.2)\n",
      "Requirement already satisfied: aiohttp!=4.0.0a0,!=4.0.0a1 in c:\\users\\shani\\anaconda3\\envs\\medical_cv_projects\\lib\\site-packages (from fsspec[http]<=2025.3.0,>=2023.1.0->datasets<4.0.0) (3.12.15)\n",
      "Requirement already satisfied: aiohappyeyeballs>=2.5.0 in c:\\users\\shani\\anaconda3\\envs\\medical_cv_projects\\lib\\site-packages (from aiohttp!=4.0.0a0,!=4.0.0a1->fsspec[http]<=2025.3.0,>=2023.1.0->datasets<4.0.0) (2.6.1)\n",
      "Requirement already satisfied: aiosignal>=1.4.0 in c:\\users\\shani\\anaconda3\\envs\\medical_cv_projects\\lib\\site-packages (from aiohttp!=4.0.0a0,!=4.0.0a1->fsspec[http]<=2025.3.0,>=2023.1.0->datasets<4.0.0) (1.4.0)\n",
      "Requirement already satisfied: async-timeout<6.0,>=4.0 in c:\\users\\shani\\anaconda3\\envs\\medical_cv_projects\\lib\\site-packages (from aiohttp!=4.0.0a0,!=4.0.0a1->fsspec[http]<=2025.3.0,>=2023.1.0->datasets<4.0.0) (5.0.1)\n",
      "Requirement already satisfied: attrs>=17.3.0 in c:\\users\\shani\\anaconda3\\envs\\medical_cv_projects\\lib\\site-packages (from aiohttp!=4.0.0a0,!=4.0.0a1->fsspec[http]<=2025.3.0,>=2023.1.0->datasets<4.0.0) (24.3.0)\n",
      "Requirement already satisfied: frozenlist>=1.1.1 in c:\\users\\shani\\anaconda3\\envs\\medical_cv_projects\\lib\\site-packages (from aiohttp!=4.0.0a0,!=4.0.0a1->fsspec[http]<=2025.3.0,>=2023.1.0->datasets<4.0.0) (1.7.0)\n",
      "Requirement already satisfied: multidict<7.0,>=4.5 in c:\\users\\shani\\anaconda3\\envs\\medical_cv_projects\\lib\\site-packages (from aiohttp!=4.0.0a0,!=4.0.0a1->fsspec[http]<=2025.3.0,>=2023.1.0->datasets<4.0.0) (6.6.4)\n",
      "Requirement already satisfied: propcache>=0.2.0 in c:\\users\\shani\\anaconda3\\envs\\medical_cv_projects\\lib\\site-packages (from aiohttp!=4.0.0a0,!=4.0.0a1->fsspec[http]<=2025.3.0,>=2023.1.0->datasets<4.0.0) (0.3.2)\n",
      "Requirement already satisfied: yarl<2.0,>=1.17.0 in c:\\users\\shani\\anaconda3\\envs\\medical_cv_projects\\lib\\site-packages (from aiohttp!=4.0.0a0,!=4.0.0a1->fsspec[http]<=2025.3.0,>=2023.1.0->datasets<4.0.0) (1.20.1)\n",
      "Requirement already satisfied: typing-extensions>=4.1.0 in c:\\users\\shani\\anaconda3\\envs\\medical_cv_projects\\lib\\site-packages (from multidict<7.0,>=4.5->aiohttp!=4.0.0a0,!=4.0.0a1->fsspec[http]<=2025.3.0,>=2023.1.0->datasets<4.0.0) (4.15.0)\n",
      "Requirement already satisfied: idna>=2.0 in c:\\users\\shani\\anaconda3\\envs\\medical_cv_projects\\lib\\site-packages (from yarl<2.0,>=1.17.0->aiohttp!=4.0.0a0,!=4.0.0a1->fsspec[http]<=2025.3.0,>=2023.1.0->datasets<4.0.0) (3.7)\n",
      "Requirement already satisfied: charset_normalizer<4,>=2 in c:\\users\\shani\\anaconda3\\envs\\medical_cv_projects\\lib\\site-packages (from requests>=2.32.2->datasets<4.0.0) (3.3.2)\n",
      "Requirement already satisfied: urllib3<3,>=1.21.1 in c:\\users\\shani\\anaconda3\\envs\\medical_cv_projects\\lib\\site-packages (from requests>=2.32.2->datasets<4.0.0) (2.5.0)\n",
      "Requirement already satisfied: certifi>=2017.4.17 in c:\\users\\shani\\anaconda3\\envs\\medical_cv_projects\\lib\\site-packages (from requests>=2.32.2->datasets<4.0.0) (2025.8.3)\n",
      "Requirement already satisfied: colorama in c:\\users\\shani\\anaconda3\\envs\\medical_cv_projects\\lib\\site-packages (from tqdm>=4.66.3->datasets<4.0.0) (0.4.6)\n",
      "Requirement already satisfied: python-dateutil>=2.8.2 in c:\\users\\shani\\anaconda3\\envs\\medical_cv_projects\\lib\\site-packages (from pandas->datasets<4.0.0) (2.9.0.post0)\n",
      "Requirement already satisfied: pytz>=2020.1 in c:\\users\\shani\\anaconda3\\envs\\medical_cv_projects\\lib\\site-packages (from pandas->datasets<4.0.0) (2025.2)\n",
      "Requirement already satisfied: tzdata>=2022.7 in c:\\users\\shani\\anaconda3\\envs\\medical_cv_projects\\lib\\site-packages (from pandas->datasets<4.0.0) (2025.2)\n",
      "Requirement already satisfied: six>=1.5 in c:\\users\\shani\\anaconda3\\envs\\medical_cv_projects\\lib\\site-packages (from python-dateutil>=2.8.2->pandas->datasets<4.0.0) (1.17.0)\n"
     ]
    }
   ],
   "execution_count": 1
  },
  {
   "metadata": {
    "ExecuteTime": {
     "end_time": "2025-08-31T13:21:19.400459Z",
     "start_time": "2025-08-31T13:21:14.698756Z"
    }
   },
   "cell_type": "code",
   "source": [
    "import transformers\n",
    "from datasets import load_dataset"
   ],
   "id": "132ae5c442e2a765",
   "outputs": [],
   "execution_count": 2
  },
  {
   "metadata": {
    "ExecuteTime": {
     "end_time": "2025-08-31T13:21:23.943507Z",
     "start_time": "2025-08-31T13:21:23.929345Z"
    }
   },
   "cell_type": "code",
   "source": "print(transformers.__version__)",
   "id": "97e92e26d95fc32f",
   "outputs": [
    {
     "name": "stdout",
     "output_type": "stream",
     "text": [
      "4.56.0\n"
     ]
    }
   ],
   "execution_count": 3
  },
  {
   "metadata": {},
   "cell_type": "markdown",
   "source": [
    "### load dataset from hugging face datasets\n",
    "\n",
    "The BioCreative V Chemical Disease Relation (CDR) dataset is a large annotated text corpus of human annotations of all chemicals, diseases and their interactions in 1,500 PubMed articles."
   ],
   "id": "2d3f928497bad5d2"
  },
  {
   "metadata": {
    "ExecuteTime": {
     "end_time": "2025-08-31T13:22:01.925558Z",
     "start_time": "2025-08-31T13:21:56.561707Z"
    }
   },
   "cell_type": "code",
   "source": "dataset = load_dataset(\"bigbio/bc5cdr\", \"bc5cdr_source\", trust_remote_code=True)    ",
   "id": "8e0960178a79c0ba",
   "outputs": [
    {
     "data": {
      "text/plain": [
       "Generating train split: 0 examples [00:00, ? examples/s]"
      ],
      "application/vnd.jupyter.widget-view+json": {
       "version_major": 2,
       "version_minor": 0,
       "model_id": "f6e10fc80d9d4f0c9022cf3c788b1df5"
      }
     },
     "metadata": {},
     "output_type": "display_data"
    },
    {
     "data": {
      "text/plain": [
       "Generating test split: 0 examples [00:00, ? examples/s]"
      ],
      "application/vnd.jupyter.widget-view+json": {
       "version_major": 2,
       "version_minor": 0,
       "model_id": "a1fb6a314b0542fe81dedff92f1a9c74"
      }
     },
     "metadata": {},
     "output_type": "display_data"
    },
    {
     "data": {
      "text/plain": [
       "Generating validation split: 0 examples [00:00, ? examples/s]"
      ],
      "application/vnd.jupyter.widget-view+json": {
       "version_major": 2,
       "version_minor": 0,
       "model_id": "0c15c8887f354cf297aaf0d487bdd7ae"
      }
     },
     "metadata": {},
     "output_type": "display_data"
    }
   ],
   "execution_count": 5
  },
  {
   "metadata": {
    "ExecuteTime": {
     "end_time": "2025-08-31T13:23:14.279478Z",
     "start_time": "2025-08-31T13:23:14.260182Z"
    }
   },
   "cell_type": "code",
   "source": "dataset",
   "id": "81d1c1a75d722380",
   "outputs": [
    {
     "data": {
      "text/plain": [
       "DatasetDict({\n",
       "    train: Dataset({\n",
       "        features: ['passages'],\n",
       "        num_rows: 500\n",
       "    })\n",
       "    test: Dataset({\n",
       "        features: ['passages'],\n",
       "        num_rows: 500\n",
       "    })\n",
       "    validation: Dataset({\n",
       "        features: ['passages'],\n",
       "        num_rows: 500\n",
       "    })\n",
       "})"
      ]
     },
     "execution_count": 8,
     "metadata": {},
     "output_type": "execute_result"
    }
   ],
   "execution_count": 8
  },
  {
   "metadata": {
    "ExecuteTime": {
     "end_time": "2025-08-31T13:22:57.093179Z",
     "start_time": "2025-08-31T13:22:56.479099Z"
    }
   },
   "cell_type": "code",
   "source": "dataset[\"train\"][0] ",
   "id": "5257506ae9605f19",
   "outputs": [
    {
     "ename": "TypeError",
     "evalue": "'module' object is not subscriptable",
     "output_type": "error",
     "traceback": [
      "\u001B[1;31m---------------------------------------------------------------------------\u001B[0m",
      "\u001B[1;31mTypeError\u001B[0m                                 Traceback (most recent call last)",
      "Cell \u001B[1;32mIn[7], line 1\u001B[0m\n\u001B[1;32m----> 1\u001B[0m \u001B[43mdatasets\u001B[49m\u001B[43m[\u001B[49m\u001B[38;5;124;43m\"\u001B[39;49m\u001B[38;5;124;43mtrain\u001B[39;49m\u001B[38;5;124;43m\"\u001B[39;49m\u001B[43m]\u001B[49m[\u001B[38;5;241m0\u001B[39m]\n",
      "\u001B[1;31mTypeError\u001B[0m: 'module' object is not subscriptable"
     ]
    }
   ],
   "execution_count": 7
  },
  {
   "metadata": {},
   "cell_type": "code",
   "outputs": [],
   "execution_count": null,
   "source": "datasets[\"train\"].features[f\"ner_tags\"]",
   "id": "6268711c4e004bea"
  }
 ],
 "metadata": {
  "kernelspec": {
   "display_name": "Python 3",
   "language": "python",
   "name": "python3"
  },
  "language_info": {
   "codemirror_mode": {
    "name": "ipython",
    "version": 2
   },
   "file_extension": ".py",
   "mimetype": "text/x-python",
   "name": "python",
   "nbconvert_exporter": "python",
   "pygments_lexer": "ipython2",
   "version": "2.7.6"
  }
 },
 "nbformat": 4,
 "nbformat_minor": 5
}
